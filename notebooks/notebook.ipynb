{
  "cells": [
    {
      "cell_type": "markdown",
      "metadata": {
        "id": "d5ZlW3x2pGjz"
      },
      "source": [
        "## `Recurrent Neural Networks`\n",
        "<center><img src=\"https://miro.medium.com/v2/resize:fit:1194/1*B0q2ZLsUUw31eEImeVf3PQ.png\"></center>"
      ]
    },
    {
      "cell_type": "markdown",
      "metadata": {
        "id": "vJU4odTppGj0"
      },
      "source": [
        "* `Importing Libraries`"
      ]
    },
    {
      "cell_type": "code",
      "execution_count": 28,
      "metadata": {
        "id": "znZ3vlkzpGj0"
      },
      "outputs": [],
      "source": [
        "import pandas as pd\n",
        "import numpy as np\n",
        "import tensorflow as tf\n",
        "import matplotlib.pyplot as plt\n",
        "import joblib"
      ]
    },
    {
      "cell_type": "code",
      "execution_count": 29,
      "metadata": {
        "colab": {
          "base_uri": "https://localhost:8080/",
          "height": 35
        },
        "id": "Wivf9SvSpGj1",
        "outputId": "d859bc87-0b9f-460e-a6ae-d7862d626037"
      },
      "outputs": [
        {
          "data": {
            "text/plain": [
              "'2.13.0'"
            ]
          },
          "execution_count": 29,
          "metadata": {},
          "output_type": "execute_result"
        }
      ],
      "source": [
        "tf.__version__"
      ]
    },
    {
      "cell_type": "code",
      "execution_count": 30,
      "metadata": {
        "colab": {
          "base_uri": "https://localhost:8080/"
        },
        "id": "e-bSOQAfpGj1",
        "outputId": "7291f04c-d083-4a79-d138-63bb17ffdda6"
      },
      "outputs": [],
      "source": [
        "# Load IMDB Dataset; Load the data using only 10000 most frequent words and neglect other\n",
        "(X_train, y_train), (X_test, y_test) = tf.keras.datasets.imdb.load_data(num_words=10000)"
      ]
    },
    {
      "cell_type": "code",
      "execution_count": 31,
      "metadata": {
        "colab": {
          "base_uri": "https://localhost:8080/"
        },
        "id": "OALNfMw8pGj1",
        "outputId": "593375ff-bc8c-4512-af13-6ebbd3782da5"
      },
      "outputs": [
        {
          "data": {
            "text/plain": [
              "((25000,), (25000,), (25000,), (25000,))"
            ]
          },
          "execution_count": 31,
          "metadata": {},
          "output_type": "execute_result"
        }
      ],
      "source": [
        "X_train.shape, y_train.shape, X_test.shape, y_test.shape"
      ]
    },
    {
      "cell_type": "code",
      "execution_count": 32,
      "metadata": {
        "colab": {
          "base_uri": "https://localhost:8080/"
        },
        "id": "-uAouyispGj1",
        "outputId": "94c2cd5a-711d-4cdd-8201-85366e4b4125"
      },
      "outputs": [
        {
          "data": {
            "text/plain": [
              "(array([0, 1], dtype=int64), array([0, 1], dtype=int64))"
            ]
          },
          "execution_count": 32,
          "metadata": {},
          "output_type": "execute_result"
        }
      ],
      "source": [
        "# Unique values in y_train & y_test\n",
        "np.unique(y_train), np.unique(y_test)"
      ]
    },
    {
      "cell_type": "code",
      "execution_count": 33,
      "metadata": {},
      "outputs": [
        {
          "data": {
            "text/plain": [
              "array([list([1, 14, 22, 16, 43, 530, 973, 1622, 1385, 65, 458, 4468, 66, 3941, 4, 173, 36, 256, 5, 25, 100, 43, 838, 112, 50, 670, 2, 9, 35, 480, 284, 5, 150, 4, 172, 112, 167, 2, 336, 385, 39, 4, 172, 4536, 1111, 17, 546, 38, 13, 447, 4, 192, 50, 16, 6, 147, 2025, 19, 14, 22, 4, 1920, 4613, 469, 4, 22, 71, 87, 12, 16, 43, 530, 38, 76, 15, 13, 1247, 4, 22, 17, 515, 17, 12, 16, 626, 18, 2, 5, 62, 386, 12, 8, 316, 8, 106, 5, 4, 2223, 5244, 16, 480, 66, 3785, 33, 4, 130, 12, 16, 38, 619, 5, 25, 124, 51, 36, 135, 48, 25, 1415, 33, 6, 22, 12, 215, 28, 77, 52, 5, 14, 407, 16, 82, 2, 8, 4, 107, 117, 5952, 15, 256, 4, 2, 7, 3766, 5, 723, 36, 71, 43, 530, 476, 26, 400, 317, 46, 7, 4, 2, 1029, 13, 104, 88, 4, 381, 15, 297, 98, 32, 2071, 56, 26, 141, 6, 194, 7486, 18, 4, 226, 22, 21, 134, 476, 26, 480, 5, 144, 30, 5535, 18, 51, 36, 28, 224, 92, 25, 104, 4, 226, 65, 16, 38, 1334, 88, 12, 16, 283, 5, 16, 4472, 113, 103, 32, 15, 16, 5345, 19, 178, 32]),\n",
              "       list([1, 194, 1153, 194, 8255, 78, 228, 5, 6, 1463, 4369, 5012, 134, 26, 4, 715, 8, 118, 1634, 14, 394, 20, 13, 119, 954, 189, 102, 5, 207, 110, 3103, 21, 14, 69, 188, 8, 30, 23, 7, 4, 249, 126, 93, 4, 114, 9, 2300, 1523, 5, 647, 4, 116, 9, 35, 8163, 4, 229, 9, 340, 1322, 4, 118, 9, 4, 130, 4901, 19, 4, 1002, 5, 89, 29, 952, 46, 37, 4, 455, 9, 45, 43, 38, 1543, 1905, 398, 4, 1649, 26, 6853, 5, 163, 11, 3215, 2, 4, 1153, 9, 194, 775, 7, 8255, 2, 349, 2637, 148, 605, 2, 8003, 15, 123, 125, 68, 2, 6853, 15, 349, 165, 4362, 98, 5, 4, 228, 9, 43, 2, 1157, 15, 299, 120, 5, 120, 174, 11, 220, 175, 136, 50, 9, 4373, 228, 8255, 5, 2, 656, 245, 2350, 5, 4, 9837, 131, 152, 491, 18, 2, 32, 7464, 1212, 14, 9, 6, 371, 78, 22, 625, 64, 1382, 9, 8, 168, 145, 23, 4, 1690, 15, 16, 4, 1355, 5, 28, 6, 52, 154, 462, 33, 89, 78, 285, 16, 145, 95]),\n",
              "       list([1, 14, 47, 8, 30, 31, 7, 4, 249, 108, 7, 4, 5974, 54, 61, 369, 13, 71, 149, 14, 22, 112, 4, 2401, 311, 12, 16, 3711, 33, 75, 43, 1829, 296, 4, 86, 320, 35, 534, 19, 263, 4821, 1301, 4, 1873, 33, 89, 78, 12, 66, 16, 4, 360, 7, 4, 58, 316, 334, 11, 4, 1716, 43, 645, 662, 8, 257, 85, 1200, 42, 1228, 2578, 83, 68, 3912, 15, 36, 165, 1539, 278, 36, 69, 2, 780, 8, 106, 14, 6905, 1338, 18, 6, 22, 12, 215, 28, 610, 40, 6, 87, 326, 23, 2300, 21, 23, 22, 12, 272, 40, 57, 31, 11, 4, 22, 47, 6, 2307, 51, 9, 170, 23, 595, 116, 595, 1352, 13, 191, 79, 638, 89, 2, 14, 9, 8, 106, 607, 624, 35, 534, 6, 227, 7, 129, 113]),\n",
              "       ...,\n",
              "       list([1, 11, 6, 230, 245, 6401, 9, 6, 1225, 446, 2, 45, 2174, 84, 8322, 4007, 21, 4, 912, 84, 2, 325, 725, 134, 2, 1715, 84, 5, 36, 28, 57, 1099, 21, 8, 140, 8, 703, 5, 2, 84, 56, 18, 1644, 14, 9, 31, 7, 4, 9406, 1209, 2295, 2, 1008, 18, 6, 20, 207, 110, 563, 12, 8, 2901, 2, 8, 97, 6, 20, 53, 4767, 74, 4, 460, 364, 1273, 29, 270, 11, 960, 108, 45, 40, 29, 2961, 395, 11, 6, 4065, 500, 7, 2, 89, 364, 70, 29, 140, 4, 64, 4780, 11, 4, 2678, 26, 178, 4, 529, 443, 2, 5, 27, 710, 117, 2, 8123, 165, 47, 84, 37, 131, 818, 14, 595, 10, 10, 61, 1242, 1209, 10, 10, 288, 2260, 1702, 34, 2901, 2, 4, 65, 496, 4, 231, 7, 790, 5, 6, 320, 234, 2766, 234, 1119, 1574, 7, 496, 4, 139, 929, 2901, 2, 7750, 5, 4241, 18, 4, 8497, 2, 250, 11, 1818, 7561, 4, 4217, 5408, 747, 1115, 372, 1890, 1006, 541, 9303, 7, 4, 59, 2, 4, 3586, 2]),\n",
              "       list([1, 1446, 7079, 69, 72, 3305, 13, 610, 930, 8, 12, 582, 23, 5, 16, 484, 685, 54, 349, 11, 4120, 2959, 45, 58, 1466, 13, 197, 12, 16, 43, 23, 2, 5, 62, 30, 145, 402, 11, 4131, 51, 575, 32, 61, 369, 71, 66, 770, 12, 1054, 75, 100, 2198, 8, 4, 105, 37, 69, 147, 712, 75, 3543, 44, 257, 390, 5, 69, 263, 514, 105, 50, 286, 1814, 23, 4, 123, 13, 161, 40, 5, 421, 4, 116, 16, 897, 13, 2, 40, 319, 5872, 112, 6700, 11, 4803, 121, 25, 70, 3468, 4, 719, 3798, 13, 18, 31, 62, 40, 8, 7200, 4, 2, 7, 14, 123, 5, 942, 25, 8, 721, 12, 145, 5, 202, 12, 160, 580, 202, 12, 6, 52, 58, 2, 92, 401, 728, 12, 39, 14, 251, 8, 15, 251, 5, 2, 12, 38, 84, 80, 124, 12, 9, 23]),\n",
              "       list([1, 17, 6, 194, 337, 7, 4, 204, 22, 45, 254, 8, 106, 14, 123, 4, 2, 270, 2, 5, 2, 2, 732, 2098, 101, 405, 39, 14, 1034, 4, 1310, 9, 115, 50, 305, 12, 47, 4, 168, 5, 235, 7, 38, 111, 699, 102, 7, 4, 4039, 9245, 9, 24, 6, 78, 1099, 17, 2345, 2, 21, 27, 9685, 6139, 5, 2, 1603, 92, 1183, 4, 1310, 7, 4, 204, 42, 97, 90, 35, 221, 109, 29, 127, 27, 118, 8, 97, 12, 157, 21, 6789, 2, 9, 6, 66, 78, 1099, 4, 631, 1191, 5, 2642, 272, 191, 1070, 6, 7585, 8, 2197, 2, 2, 544, 5, 383, 1271, 848, 1468, 2, 497, 2, 8, 1597, 8778, 2, 21, 60, 27, 239, 9, 43, 8368, 209, 405, 10, 10, 12, 764, 40, 4, 248, 20, 12, 16, 5, 174, 1791, 72, 7, 51, 6, 1739, 22, 4, 204, 131, 9])],\n",
              "      dtype=object)"
            ]
          },
          "execution_count": 33,
          "metadata": {},
          "output_type": "execute_result"
        }
      ],
      "source": [
        "X_train"
      ]
    },
    {
      "cell_type": "code",
      "execution_count": 7,
      "metadata": {
        "colab": {
          "base_uri": "https://localhost:8080/"
        },
        "id": "GjpnH0xBpGj1",
        "outputId": "69dcec91-272a-425d-fd13-897b707916d9"
      },
      "outputs": [
        {
          "data": {
            "text/plain": [
              "9999"
            ]
          },
          "execution_count": 7,
          "metadata": {},
          "output_type": "execute_result"
        }
      ],
      "source": [
        "# Since we restricted ourselves to the top 10,000 most frequent words, no word index will exceed 10,000:\n",
        "max([max(idx) for idx in X_train])"
      ]
    },
    {
      "cell_type": "code",
      "execution_count": 8,
      "metadata": {
        "colab": {
          "base_uri": "https://localhost:8080/"
        },
        "id": "ANN2ztWQpGj1",
        "outputId": "40b1f7c4-d66f-40db-a580-c09453aaa8a8"
      },
      "outputs": [
        {
          "name": "stdout",
          "output_type": "stream",
          "text": [
            "Downloading data from https://storage.googleapis.com/tensorflow/tf-keras-datasets/imdb_word_index.json\n",
            "1641221/1641221 [==============================] - 0s 0us/step\n"
          ]
        }
      ],
      "source": [
        "# Get the index of each word\n",
        "word2idx = tf.keras.datasets.imdb.get_word_index()\n",
        "\n",
        "# If you want to get text itslef\n",
        "idx2word = {word2idx[word]:word for word in word2idx.keys()}"
      ]
    },
    {
      "cell_type": "code",
      "execution_count": 9,
      "metadata": {
        "colab": {
          "base_uri": "https://localhost:8080/",
          "height": 139
        },
        "id": "rq5sKWwWpGj2",
        "outputId": "d4a7cf7a-0bbf-4565-d7b8-3a80813796d0"
      },
      "outputs": [
        {
          "data": {
            "application/vnd.google.colaboratory.intrinsic+json": {
              "type": "string"
            },
            "text/plain": [
              "\"? this film was just brilliant casting location scenery story direction everyone's really suited the part they played and you could just imagine being there robert ? is an amazing actor and now the same being director ? father came from the same scottish island as myself so i loved the fact there was a real connection with this film the witty remarks throughout the film were great it was just brilliant so much that i bought the film as soon as it was released for ? and would recommend it to everyone to watch and the fly fishing was amazing really cried at the end it was so sad and you know what they say if you cry at a film it must have been good and this definitely was also ? to the two little boy's that played the ? of norman and paul they were just brilliant children are often left out of the ? list i think because the stars that play them all grown up are such a big profile for the whole film but these children are amazing and should be praised for what they have done don't you think the whole story was so lovely because it was true and was someone's life after all that was shared with us all\""
            ]
          },
          "execution_count": 9,
          "metadata": {},
          "output_type": "execute_result"
        }
      ],
      "source": [
        "# We want to decode the review; note that our indices were offset by 3\n",
        "# because 0, 1 and 2 are reserved indices for \"padding\", \"start of sequence\", and \"unknown\".\n",
        "' '.join([idx2word.get(i - 3, '?') for i in X_train[0]])  # for 1st instance"
      ]
    },
    {
      "cell_type": "code",
      "execution_count": 57,
      "metadata": {
        "colab": {
          "base_uri": "https://localhost:8080/",
          "height": 105
        },
        "id": "2u1LwcuZpGj2",
        "outputId": "4ebf80c0-c39f-480e-9855-4795fb23ca6e"
      },
      "outputs": [
        {
          "data": {
            "text/plain": [
              "\"? this movie has many problem associated with it that makes it come off like a low budget class project from someone in film school i have to give it credit on its ? though many times throughout the movie i found myself laughing hysterically it was so bad at times that it was comical which made it a fun watch br br if you're looking for a low grade slasher movie with a twist of psychological horror and a dash of campy ? then pop a bowl of popcorn invite some friends over and have some fun br br i agree with other comments that the sound is very bad dialog is next to impossible to follow much of the time and the soundtrack is kind of just there\""
            ]
          },
          "execution_count": 57,
          "metadata": {},
          "output_type": "execute_result"
        }
      ],
      "source": [
        "def reconstruct(tokens):\n",
        "    \"\"\" A function to reconstruct the original text \"\"\"\n",
        "    return ' '.join([idx2word.get(i - 3, '?') for i in tokens])\n",
        "\n",
        "# call the above function on another sample\n",
        "reconstruct(X_train[9])"
      ]
    },
    {
      "cell_type": "code",
      "execution_count": 11,
      "metadata": {
        "colab": {
          "base_uri": "https://localhost:8080/"
        },
        "id": "dEOqNLCApGj2",
        "outputId": "9374f962-08e2-47be-ca00-1b1ae5306740"
      },
      "outputs": [
        {
          "data": {
            "text/plain": [
              "(218, 189)"
            ]
          },
          "execution_count": 11,
          "metadata": {},
          "output_type": "execute_result"
        }
      ],
      "source": [
        "len(X_train[0]), len(X_train[1])  # There are different lengths"
      ]
    },
    {
      "cell_type": "code",
      "execution_count": 12,
      "metadata": {
        "colab": {
          "base_uri": "https://localhost:8080/"
        },
        "id": "j2mrUirXpGj2",
        "outputId": "b09c1985-d716-4e88-ad3c-2004e9fdac0f"
      },
      "outputs": [
        {
          "data": {
            "text/plain": [
              "2494"
            ]
          },
          "execution_count": 12,
          "metadata": {},
          "output_type": "execute_result"
        }
      ],
      "source": [
        "# Get max sequence lenght\n",
        "max_seq_length = max([len(seq) for seq in X_train])\n",
        "max_seq_length"
      ]
    },
    {
      "cell_type": "code",
      "execution_count": 13,
      "metadata": {
        "id": "IywWGe3xpGj2"
      },
      "outputs": [],
      "source": [
        "# some configurations\n",
        "MAX_SEQUENCE_LENGTH = 100\n",
        "BATCH_SIZE = 128\n",
        "EPOCHS = 20\n",
        "VOCAB_SIZE = len(word2idx)\n",
        "EMBED_SIZE = 64"
      ]
    },
    {
      "cell_type": "markdown",
      "metadata": {
        "id": "r6NiIhLQpGj2"
      },
      "source": [
        "* `Padding & Truncation`"
      ]
    },
    {
      "cell_type": "code",
      "execution_count": 14,
      "metadata": {
        "colab": {
          "base_uri": "https://localhost:8080/"
        },
        "id": "f_-8nMM7pGj2",
        "outputId": "0230da5e-50f2-44d1-c192-924e98117d8a"
      },
      "outputs": [
        {
          "name": "stdout",
          "output_type": "stream",
          "text": [
            "X_train_padded shape: (25000, 100)\n",
            "y_train dtype: (25000,)\n",
            "\n",
            "X_test_padded shape: (25000, 100)\n",
            "y_test dtype: (25000,)\n"
          ]
        }
      ],
      "source": [
        "# Let's padd all sentences to have the same sequence length \"MAX_SEQUENCE_LENGTH\"\n",
        "X_train_padded = tf.keras.preprocessing.sequence.pad_sequences(X_train, maxlen=MAX_SEQUENCE_LENGTH, padding='post', truncating='post', value=0)\n",
        "X_test_padded = tf.keras.preprocessing.sequence.pad_sequences(X_test, maxlen=MAX_SEQUENCE_LENGTH, padding='post', truncating='post', value=0)\n",
        "\n",
        "print(\"X_train_padded shape:\", X_train_padded.shape)\n",
        "print(\"y_train dtype:\", y_train.shape)\n",
        "print()\n",
        "print(\"X_test_padded shape:\", X_test_padded.shape)\n",
        "print(\"y_test dtype:\", y_test.shape)"
      ]
    },
    {
      "cell_type": "markdown",
      "metadata": {
        "id": "Bx9b4FzupGj2"
      },
      "source": [
        "* `Model | RNN`"
      ]
    },
    {
      "cell_type": "code",
      "execution_count": 15,
      "metadata": {
        "colab": {
          "base_uri": "https://localhost:8080/"
        },
        "id": "r6C99KIopGj2",
        "outputId": "4eccfdae-8dd2-4f6d-8547-1a2efc54ba3a"
      },
      "outputs": [
        {
          "name": "stdout",
          "output_type": "stream",
          "text": [
            "Model: \"sequential\"\n",
            "_________________________________________________________________\n",
            " Layer (type)                Output Shape              Param #   \n",
            "=================================================================\n",
            " embedding (Embedding)       (None, 100, 64)           5669376   \n",
            "                                                                 \n",
            " simple_rnn (SimpleRNN)      (None, 100, 64)           8256      \n",
            "                                                                 \n",
            " simple_rnn_1 (SimpleRNN)    (None, 64)                8256      \n",
            "                                                                 \n",
            " dense (Dense)               (None, 32)                2080      \n",
            "                                                                 \n",
            " dense_1 (Dense)             (None, 1)                 33        \n",
            "                                                                 \n",
            "=================================================================\n",
            "Total params: 5688001 (21.70 MB)\n",
            "Trainable params: 5688001 (21.70 MB)\n",
            "Non-trainable params: 0 (0.00 Byte)\n",
            "_________________________________________________________________\n"
          ]
        }
      ],
      "source": [
        "model = tf.keras.Sequential([\n",
        "\n",
        "    ## RNN base\n",
        "    tf.keras.layers.Embedding(input_dim=VOCAB_SIZE, output_dim=EMBED_SIZE, input_length=MAX_SEQUENCE_LENGTH),\n",
        "    tf.keras.layers.SimpleRNN(units=64, return_sequences=True),\n",
        "    tf.keras.layers.SimpleRNN(units=64),\n",
        "\n",
        "    # Top classifier\n",
        "    tf.keras.layers.Dense(32, activation='relu'),\n",
        "    tf.keras.layers.Dense(1, activation='sigmoid')\n",
        "])\n",
        "\n",
        "model.summary()"
      ]
    },
    {
      "cell_type": "code",
      "execution_count": 16,
      "metadata": {
        "colab": {
          "base_uri": "https://localhost:8080/"
        },
        "id": "93c9caMtpGj3",
        "outputId": "cd69abcb-7d96-4d3d-8198-af2fd5300c57"
      },
      "outputs": [
        {
          "name": "stdout",
          "output_type": "stream",
          "text": [
            "Epoch 1/20\n",
            "196/196 [==============================] - 38s 172ms/step - loss: 0.6939 - accuracy: 0.5138 - val_loss: 0.6966 - val_accuracy: 0.4920\n",
            "Epoch 2/20\n",
            "196/196 [==============================] - 28s 145ms/step - loss: 0.5942 - accuracy: 0.6762 - val_loss: 0.7251 - val_accuracy: 0.5528\n",
            "Epoch 3/20\n",
            "196/196 [==============================] - 29s 147ms/step - loss: 0.2737 - accuracy: 0.8888 - val_loss: 0.7029 - val_accuracy: 0.7104\n",
            "Epoch 4/20\n",
            "196/196 [==============================] - 29s 147ms/step - loss: 0.0941 - accuracy: 0.9677 - val_loss: 1.0874 - val_accuracy: 0.6530\n",
            "Epoch 5/20\n",
            "196/196 [==============================] - 27s 139ms/step - loss: 0.0443 - accuracy: 0.9861 - val_loss: 1.2509 - val_accuracy: 0.6718\n",
            "Epoch 6/20\n",
            "196/196 [==============================] - 28s 145ms/step - loss: 0.0334 - accuracy: 0.9904 - val_loss: 1.4824 - val_accuracy: 0.6492\n"
          ]
        }
      ],
      "source": [
        "# Compile and fit\n",
        "model.compile(loss='binary_crossentropy',\n",
        "            optimizer='adam',\n",
        "            metrics=['accuracy'])\n",
        "\n",
        "# Early Stopping\n",
        "early_stopping = tf.keras.callbacks.EarlyStopping(monitor='val_loss', patience=5, restore_best_weights=True)\n",
        "\n",
        "\n",
        "# Fitting\n",
        "history = model.fit(X_train_padded, y_train,\n",
        "                    validation_data=[X_test_padded[:5000], y_test[:5000]],\n",
        "                    epochs=EPOCHS,\n",
        "                    batch_size=BATCH_SIZE,\n",
        "                    callbacks=[early_stopping])"
      ]
    },
    {
      "cell_type": "code",
      "execution_count": 17,
      "metadata": {
        "colab": {
          "base_uri": "https://localhost:8080/"
        },
        "id": "Wl0JQ5M_pGj3",
        "outputId": "82ffd88c-f554-48df-e741-afb64b8f76fb"
      },
      "outputs": [
        {
          "name": "stdout",
          "output_type": "stream",
          "text": [
            "782/782 [==============================] - 9s 11ms/step - loss: 0.6939 - accuracy: 0.5068\n",
            "Test Loss: 0.6939299702644348\n",
            "Test Accuracy: 0.5067600011825562\n"
          ]
        }
      ],
      "source": [
        "# evaluate on test\n",
        "test_loss, test_acc = model.evaluate(X_test_padded, y_test)\n",
        "\n",
        "print(f'Test Loss: {test_loss}')\n",
        "print(f'Test Accuracy: {test_acc}')"
      ]
    },
    {
      "cell_type": "code",
      "execution_count": 18,
      "metadata": {
        "colab": {
          "base_uri": "https://localhost:8080/",
          "height": 393
        },
        "id": "8RSIX1l2pGj3",
        "outputId": "a8eeea5f-d149-4f12-b6f7-de1560b6aace"
      },
      "outputs": [
        {
          "data": {
            "image/png": "[encoded data removed]",
            "text/plain": [
              "<Figure size 1200x400 with 2 Axes>"
            ]
          },
          "metadata": {},
          "output_type": "display_data"
        }
      ],
      "source": [
        "## Visualize the resutls\n",
        "fia, ax = plt.subplots(1, 2, figsize=(12, 4))\n",
        "n_epochs = len(history.history['loss'])  # real number of epochs in history, as we made early stopp\n",
        "plt.sca(ax[0])\n",
        "plt.plot(range(1, n_epochs+1), history.history['accuracy'], 'bo', label='Train Accuracy')\n",
        "plt.plot(range(1, n_epochs+1), history.history['val_accuracy'], 'r-', label='Valid Accuracy')\n",
        "plt.xlabel('Epochs', fontsize=14)\n",
        "plt.ylabel('Accuracy',  fontsize=14)\n",
        "plt.legend()\n",
        "\n",
        "plt.sca(ax[1])\n",
        "plt.plot(range(1, n_epochs+1), history.history['loss'], 'bo', label='Train loss')\n",
        "plt.plot(range(1, n_epochs+1), history.history['val_loss'], 'r-', label='Valid loss')\n",
        "plt.xlabel('Epochs', fontsize=14)\n",
        "plt.ylabel('Loss',  fontsize=14)\n",
        "plt.legend()\n",
        "plt.show()"
      ]
    },
    {
      "cell_type": "markdown",
      "metadata": {
        "id": "2J-qP1xVpGj3"
      },
      "source": [
        "----"
      ]
    },
    {
      "cell_type": "markdown",
      "metadata": {
        "id": "H2Oo_LAapGj3"
      },
      "source": [
        "* `Bidirectional RNN`"
      ]
    },
    {
      "cell_type": "code",
      "execution_count": 19,
      "metadata": {
        "colab": {
          "base_uri": "https://localhost:8080/"
        },
        "id": "fwm8Q0v4pGj3",
        "outputId": "05d96152-5b9c-4aa6-b621-6c841a00c71e"
      },
      "outputs": [
        {
          "name": "stdout",
          "output_type": "stream",
          "text": [
            "Model: \"sequential_1\"\n",
            "_________________________________________________________________\n",
            " Layer (type)                Output Shape              Param #   \n",
            "=================================================================\n",
            " embedding_1 (Embedding)     (None, 100, 64)           5669376   \n",
            "                                                                 \n",
            " bidirectional (Bidirection  (None, 100, 128)          16512     \n",
            " al)                                                             \n",
            "                                                                 \n",
            " bidirectional_1 (Bidirecti  (None, 128)               24704     \n",
            " onal)                                                           \n",
            "                                                                 \n",
            " dense_2 (Dense)             (None, 64)                8256      \n",
            "                                                                 \n",
            " dense_3 (Dense)             (None, 1)                 65        \n",
            "                                                                 \n",
            "=================================================================\n",
            "Total params: 5718913 (21.82 MB)\n",
            "Trainable params: 5718913 (21.82 MB)\n",
            "Non-trainable params: 0 (0.00 Byte)\n",
            "_________________________________________________________________\n"
          ]
        }
      ],
      "source": [
        "model = tf.keras.models.Sequential([\n",
        "\n",
        "    # RNN base\n",
        "    tf.keras.layers.Embedding(input_dim=VOCAB_SIZE, output_dim=EMBED_SIZE, input_length=MAX_SEQUENCE_LENGTH),\n",
        "    tf.keras.layers.Bidirectional(tf.keras.layers.SimpleRNN(units=64, return_sequences=True)),\n",
        "    tf.keras.layers.Bidirectional(tf.keras.layers.SimpleRNN(units=64)),\n",
        "\n",
        "    # FC\n",
        "    tf.keras.layers.Dense(64, activation='relu'),\n",
        "    tf.keras.layers.Dense(1, activation='sigmoid')\n",
        "])\n",
        "model.summary()"
      ]
    },
    {
      "cell_type": "code",
      "execution_count": 20,
      "metadata": {
        "colab": {
          "base_uri": "https://localhost:8080/"
        },
        "id": "LnwjfxtzpGj3",
        "outputId": "c00fb2dd-ec38-4228-9cff-9f3cc904c018"
      },
      "outputs": [
        {
          "name": "stdout",
          "output_type": "stream",
          "text": [
            "Epoch 1/20\n",
            "196/196 [==============================] - 58s 280ms/step - loss: 0.7176 - accuracy: 0.5016 - val_loss: 0.6929 - val_accuracy: 0.5097\n",
            "Epoch 2/20\n",
            "196/196 [==============================] - 50s 255ms/step - loss: 0.6930 - accuracy: 0.5097 - val_loss: 0.6932 - val_accuracy: 0.5094\n",
            "Epoch 3/20\n",
            "196/196 [==============================] - 52s 266ms/step - loss: 0.6918 - accuracy: 0.5273 - val_loss: 0.6939 - val_accuracy: 0.5092\n",
            "Epoch 4/20\n",
            "196/196 [==============================] - 52s 266ms/step - loss: 0.6857 - accuracy: 0.5474 - val_loss: 0.6941 - val_accuracy: 0.5172\n",
            "Epoch 5/20\n",
            "196/196 [==============================] - 50s 255ms/step - loss: 0.6721 - accuracy: 0.5699 - val_loss: 0.7165 - val_accuracy: 0.5188\n",
            "Epoch 6/20\n",
            "196/196 [==============================] - 55s 280ms/step - loss: 0.6564 - accuracy: 0.5916 - val_loss: 0.7444 - val_accuracy: 0.5270\n"
          ]
        }
      ],
      "source": [
        "# Compile & fit\n",
        "model.compile(loss='binary_crossentropy',\n",
        "            optimizer=tf.keras.optimizers.Adam(learning_rate=0.01),\n",
        "            metrics=['accuracy'])\n",
        "\n",
        "# earlys stopping\n",
        "early_stopping = tf.keras.callbacks.EarlyStopping(monitor='val_loss', patience=5)\n",
        "\n",
        "history = model.fit(X_train_padded, y_train,\n",
        "                    validation_data=(X_test_padded, y_test),\n",
        "                    epochs=EPOCHS,\n",
        "                    batch_size=BATCH_SIZE,\n",
        "                    callbacks=[early_stopping])"
      ]
    },
    {
      "cell_type": "code",
      "execution_count": 21,
      "metadata": {
        "colab": {
          "base_uri": "https://localhost:8080/"
        },
        "id": "y7I8opeypGj3",
        "outputId": "16518a6e-143a-4c55-cd33-3b2d27f6ada1"
      },
      "outputs": [
        {
          "name": "stdout",
          "output_type": "stream",
          "text": [
            "782/782 [==============================] - 18s 24ms/step - loss: 0.7444 - accuracy: 0.5270\n",
            "Test Loss: 0.7443870902061462\n",
            "Test Accuracy: 0.5270000100135803\n"
          ]
        }
      ],
      "source": [
        "# evaluate on test\n",
        "test_loss, test_acc = model.evaluate(X_test_padded, y_test)\n",
        "\n",
        "print(f'Test Loss: {test_loss}')\n",
        "print(f'Test Accuracy: {test_acc}')"
      ]
    },
    {
      "cell_type": "code",
      "execution_count": 22,
      "metadata": {
        "colab": {
          "base_uri": "https://localhost:8080/",
          "height": 393
        },
        "id": "sHupL9KHpGj3",
        "outputId": "5b721afa-4208-4865-f086-1ceae799c189"
      },
      "outputs": [
        {
          "data": {
            "image/png": "[encoded data removed]",
            "text/plain": [
              "<Figure size 1200x400 with 2 Axes>"
            ]
          },
          "metadata": {},
          "output_type": "display_data"
        }
      ],
      "source": [
        "## Visualize the resutls\n",
        "fia, ax = plt.subplots(1, 2, figsize=(12, 4))\n",
        "n_epochs = len(history.history['loss'])  # real number of epochs in history, as we made early stopp\n",
        "plt.sca(ax[0])\n",
        "plt.plot(range(1, n_epochs+1), history.history['accuracy'], 'bo', label='Train Accuracy')\n",
        "plt.plot(range(1, n_epochs+1), history.history['val_accuracy'], 'r-', label='Valid Accuracy')\n",
        "plt.xlabel('Epochs', fontsize=14)\n",
        "plt.ylabel('Accuracy',  fontsize=14)\n",
        "plt.legend()\n",
        "\n",
        "plt.sca(ax[1])\n",
        "plt.plot(range(1, n_epochs+1), history.history['loss'], 'bo', label='Train loss')\n",
        "plt.plot(range(1, n_epochs+1), history.history['val_loss'], 'r-', label='Valid loss')\n",
        "plt.xlabel('Epochs', fontsize=14)\n",
        "plt.ylabel('Loss',  fontsize=14)\n",
        "plt.legend()\n",
        "plt.show()"
      ]
    },
    {
      "cell_type": "markdown",
      "metadata": {
        "id": "or4CY9aSpGj3"
      },
      "source": [
        "---"
      ]
    },
    {
      "cell_type": "markdown",
      "metadata": {
        "id": "JTdf_miIpGj3"
      },
      "source": [
        "* `GRU`"
      ]
    },
    {
      "cell_type": "code",
      "execution_count": 23,
      "metadata": {
        "colab": {
          "base_uri": "https://localhost:8080/"
        },
        "id": "vxXDqDCNpGj4",
        "outputId": "3979685d-dfea-4666-d7f7-3909e1c8f340"
      },
      "outputs": [
        {
          "name": "stdout",
          "output_type": "stream",
          "text": [
            "Model: \"sequential_2\"\n",
            "_________________________________________________________________\n",
            " Layer (type)                Output Shape              Param #   \n",
            "=================================================================\n",
            " embedding_2 (Embedding)     (None, 100, 64)           5669376   \n",
            "                                                                 \n",
            " bidirectional_2 (Bidirecti  (None, 100, 128)          16512     \n",
            " onal)                                                           \n",
            "                                                                 \n",
            " gru (GRU)                   (None, 100, 64)           37248     \n",
            "                                                                 \n",
            " gru_1 (GRU)                 (None, 32)                9408      \n",
            "                                                                 \n",
            " dense_4 (Dense)             (None, 64)                2112      \n",
            "                                                                 \n",
            " dense_5 (Dense)             (None, 1)                 65        \n",
            "                                                                 \n",
            "=================================================================\n",
            "Total params: 5734721 (21.88 MB)\n",
            "Trainable params: 5734721 (21.88 MB)\n",
            "Non-trainable params: 0 (0.00 Byte)\n",
            "_________________________________________________________________\n"
          ]
        }
      ],
      "source": [
        "model = tf.keras.models.Sequential([\n",
        "\n",
        "    # RNN base\n",
        "    tf.keras.layers.Embedding(input_dim=VOCAB_SIZE, output_dim=EMBED_SIZE, input_length=MAX_SEQUENCE_LENGTH),\n",
        "    tf.keras.layers.Bidirectional(tf.keras.layers.SimpleRNN(units=64, return_sequences=True)),\n",
        "    tf.keras.layers.GRU(units=64, return_sequences=True),\n",
        "    tf.keras.layers.GRU(units=32),\n",
        "\n",
        "    # FC\n",
        "    tf.keras.layers.Dense(64, activation='relu'),\n",
        "    tf.keras.layers.Dense(1, activation='sigmoid')\n",
        "])\n",
        "model.summary()"
      ]
    },
    {
      "cell_type": "code",
      "execution_count": 24,
      "metadata": {
        "colab": {
          "base_uri": "https://localhost:8080/"
        },
        "id": "-v0N1pe0pGj4",
        "outputId": "dff47492-3d86-43a7-e156-dd5079b58f7b"
      },
      "outputs": [
        {
          "name": "stdout",
          "output_type": "stream",
          "text": [
            "Epoch 1/20\n",
            "196/196 [==============================] - 97s 470ms/step - loss: 0.6983 - accuracy: 0.5033 - val_loss: 0.6933 - val_accuracy: 0.5000\n",
            "Epoch 2/20\n",
            "196/196 [==============================] - 89s 454ms/step - loss: 0.6931 - accuracy: 0.5109 - val_loss: 0.6935 - val_accuracy: 0.5000\n",
            "Epoch 3/20\n",
            "196/196 [==============================] - 103s 527ms/step - loss: 0.6901 - accuracy: 0.5386 - val_loss: 0.6920 - val_accuracy: 0.5215\n",
            "Epoch 4/20\n",
            "196/196 [==============================] - 107s 546ms/step - loss: 0.6805 - accuracy: 0.5757 - val_loss: 0.6908 - val_accuracy: 0.5316\n",
            "Epoch 5/20\n",
            "196/196 [==============================] - 96s 488ms/step - loss: 0.6485 - accuracy: 0.6273 - val_loss: 0.6163 - val_accuracy: 0.6635\n",
            "Epoch 6/20\n",
            "196/196 [==============================] - 92s 470ms/step - loss: 0.5294 - accuracy: 0.7417 - val_loss: 0.5586 - val_accuracy: 0.7005\n",
            "Epoch 7/20\n",
            "196/196 [==============================] - 92s 471ms/step - loss: 0.5104 - accuracy: 0.7556 - val_loss: 0.5363 - val_accuracy: 0.7333\n",
            "Epoch 8/20\n",
            "196/196 [==============================] - 95s 484ms/step - loss: 0.4733 - accuracy: 0.7832 - val_loss: 0.5436 - val_accuracy: 0.7323\n",
            "Epoch 9/20\n",
            "196/196 [==============================] - 94s 480ms/step - loss: 0.4481 - accuracy: 0.7945 - val_loss: 0.5659 - val_accuracy: 0.7304\n",
            "Epoch 10/20\n",
            "196/196 [==============================] - 94s 479ms/step - loss: 0.4144 - accuracy: 0.8146 - val_loss: 0.5318 - val_accuracy: 0.7552\n",
            "Epoch 11/20\n",
            "196/196 [==============================] - 91s 467ms/step - loss: 0.3848 - accuracy: 0.8326 - val_loss: 0.4948 - val_accuracy: 0.7668\n",
            "Epoch 12/20\n",
            "196/196 [==============================] - 95s 487ms/step - loss: 0.3774 - accuracy: 0.8365 - val_loss: 0.5085 - val_accuracy: 0.7542\n",
            "Epoch 13/20\n",
            "196/196 [==============================] - 91s 464ms/step - loss: 0.3996 - accuracy: 0.8230 - val_loss: 0.5048 - val_accuracy: 0.7646\n",
            "Epoch 14/20\n",
            "196/196 [==============================] - 93s 474ms/step - loss: 0.4400 - accuracy: 0.7976 - val_loss: 0.5123 - val_accuracy: 0.7497\n",
            "Epoch 15/20\n",
            "196/196 [==============================] - 91s 468ms/step - loss: 0.4115 - accuracy: 0.8164 - val_loss: 0.5168 - val_accuracy: 0.7623\n",
            "Epoch 16/20\n",
            "196/196 [==============================] - 88s 447ms/step - loss: 0.3798 - accuracy: 0.8351 - val_loss: 0.5161 - val_accuracy: 0.7628\n"
          ]
        }
      ],
      "source": [
        "# Compile & fit\n",
        "model.compile(loss='binary_crossentropy',\n",
        "            optimizer=tf.keras.optimizers.Adam(learning_rate=0.01),\n",
        "            metrics=['accuracy'])\n",
        "\n",
        "# earlys stopping\n",
        "early_stopping = tf.keras.callbacks.EarlyStopping(monitor='val_loss', patience=5)\n",
        "\n",
        "history = model.fit(X_train_padded, y_train,\n",
        "                    validation_data=(X_test_padded, y_test),\n",
        "                    epochs=EPOCHS,\n",
        "                    batch_size=BATCH_SIZE,\n",
        "                    callbacks=[early_stopping])"
      ]
    },
    {
      "cell_type": "code",
      "execution_count": 25,
      "metadata": {
        "colab": {
          "base_uri": "https://localhost:8080/"
        },
        "id": "ltk_M90qpGj4",
        "outputId": "a5efb2b0-989d-4ade-88b4-d8058b241500"
      },
      "outputs": [
        {
          "name": "stdout",
          "output_type": "stream",
          "text": [
            "782/782 [==============================] - 28s 36ms/step - loss: 0.5161 - accuracy: 0.7628\n",
            "Test Loss: 0.5160730481147766\n",
            "Test Accuracy: 0.7628399729728699\n"
          ]
        }
      ],
      "source": [
        "# evaluate on test\n",
        "test_loss, test_acc = model.evaluate(X_test_padded, y_test)\n",
        "\n",
        "print(f'Test Loss: {test_loss}')\n",
        "print(f'Test Accuracy: {test_acc}')"
      ]
    },
    {
      "cell_type": "code",
      "execution_count": 26,
      "metadata": {
        "colab": {
          "base_uri": "https://localhost:8080/",
          "height": 396
        },
        "id": "uZIAFz_RpGj4",
        "outputId": "14a3a7bc-0765-4250-948d-e94d9259a5ef"
      },
      "outputs": [
        {
          "data": {
            "image/png": "[encoded data removed]",
            "text/plain": [
              "<Figure size 1200x400 with 2 Axes>"
            ]
          },
          "metadata": {},
          "output_type": "display_data"
        }
      ],
      "source": [
        "## Visualize the resutls\n",
        "fia, ax = plt.subplots(1, 2, figsize=(12, 4))\n",
        "n_epochs = len(history.history['loss'])  # real number of epochs in history, as we made early stopp\n",
        "plt.sca(ax[0])\n",
        "plt.plot(range(1, n_epochs+1), history.history['accuracy'], 'bo', label='Train Accuracy')\n",
        "plt.plot(range(1, n_epochs+1), history.history['val_accuracy'], 'r-', label='Valid Accuracy')\n",
        "plt.xlabel('Epochs', fontsize=14)\n",
        "plt.ylabel('Accuracy',  fontsize=14)\n",
        "plt.legend()\n",
        "\n",
        "plt.sca(ax[1])\n",
        "plt.plot(range(1, n_epochs+1), history.history['loss'], 'bo', label='Train loss')\n",
        "plt.plot(range(1, n_epochs+1), history.history['val_loss'], 'r-', label='Valid loss')\n",
        "plt.xlabel('Epochs', fontsize=14)\n",
        "plt.ylabel('Loss',  fontsize=14)\n",
        "plt.legend()\n",
        "plt.show()"
      ]
    },
    {
      "cell_type": "markdown",
      "metadata": {
        "id": "YjTNI1MMpGj4"
      },
      "source": [
        "---\n",
        "* `LSTM`"
      ]
    },
    {
      "cell_type": "code",
      "execution_count": 27,
      "metadata": {
        "colab": {
          "base_uri": "https://localhost:8080/"
        },
        "id": "wl678ATwpGj4",
        "outputId": "26e01982-bc07-494e-f9b1-3089317ecb99"
      },
      "outputs": [
        {
          "name": "stdout",
          "output_type": "stream",
          "text": [
            "Model: \"sequential_3\"\n",
            "_________________________________________________________________\n",
            " Layer (type)                Output Shape              Param #   \n",
            "=================================================================\n",
            " embedding_3 (Embedding)     (None, 100, 64)           5669376   \n",
            "                                                                 \n",
            " bidirectional_3 (Bidirecti  (None, 100, 128)          66048     \n",
            " onal)                                                           \n",
            "                                                                 \n",
            " lstm_1 (LSTM)               (None, 100, 64)           49408     \n",
            "                                                                 \n",
            " gru_2 (GRU)                 (None, 32)                9408      \n",
            "                                                                 \n",
            " dense_6 (Dense)             (None, 64)                2112      \n",
            "                                                                 \n",
            " dense_7 (Dense)             (None, 1)                 65        \n",
            "                                                                 \n",
            "=================================================================\n",
            "Total params: 5796417 (22.11 MB)\n",
            "Trainable params: 5796417 (22.11 MB)\n",
            "Non-trainable params: 0 (0.00 Byte)\n",
            "_________________________________________________________________\n"
          ]
        }
      ],
      "source": [
        "model = tf.keras.models.Sequential([\n",
        "\n",
        "    # RNN base\n",
        "    tf.keras.layers.Embedding(input_dim=VOCAB_SIZE, output_dim=EMBED_SIZE, input_length=MAX_SEQUENCE_LENGTH),\n",
        "    tf.keras.layers.Bidirectional(tf.keras.layers.LSTM(units=64, return_sequences=True)),\n",
        "    tf.keras.layers.LSTM(units=64, return_sequences=True),\n",
        "    tf.keras.layers.GRU(units=32),\n",
        "\n",
        "    # FC\n",
        "    tf.keras.layers.Dense(64, activation='relu'),\n",
        "    tf.keras.layers.Dense(1, activation='sigmoid')\n",
        "])\n",
        "model.summary()"
      ]
    },
    {
      "cell_type": "code",
      "execution_count": 28,
      "metadata": {
        "colab": {
          "base_uri": "https://localhost:8080/"
        },
        "id": "F8Rz3RcUpGj4",
        "outputId": "cdf42a3f-7230-4457-aaa8-0a1ddb6e3d23"
      },
      "outputs": [
        {
          "name": "stdout",
          "output_type": "stream",
          "text": [
            "Epoch 1/20\n",
            "196/196 [==============================] - 163s 797ms/step - loss: 0.6264 - accuracy: 0.6318 - val_loss: 0.4620 - val_accuracy: 0.7889\n",
            "Epoch 2/20\n",
            "196/196 [==============================] - 152s 777ms/step - loss: 0.3545 - accuracy: 0.8487 - val_loss: 0.3968 - val_accuracy: 0.8211\n",
            "Epoch 3/20\n",
            "196/196 [==============================] - 148s 759ms/step - loss: 0.2416 - accuracy: 0.9058 - val_loss: 0.4449 - val_accuracy: 0.8004\n",
            "Epoch 4/20\n",
            "196/196 [==============================] - 155s 795ms/step - loss: 0.1702 - accuracy: 0.9383 - val_loss: 0.4970 - val_accuracy: 0.8065\n",
            "Epoch 5/20\n",
            "196/196 [==============================] - 155s 791ms/step - loss: 0.1171 - accuracy: 0.9597 - val_loss: 0.6403 - val_accuracy: 0.7826\n",
            "Epoch 6/20\n",
            "196/196 [==============================] - 152s 779ms/step - loss: 0.0861 - accuracy: 0.9716 - val_loss: 0.6104 - val_accuracy: 0.8014\n",
            "Epoch 7/20\n",
            "196/196 [==============================] - 159s 814ms/step - loss: 0.0590 - accuracy: 0.9813 - val_loss: 0.7996 - val_accuracy: 0.7899\n"
          ]
        }
      ],
      "source": [
        "# Compile & fit\n",
        "model.compile(loss='binary_crossentropy',\n",
        "            optimizer=tf.keras.optimizers.Adam(learning_rate=0.01),\n",
        "            metrics=['accuracy'])\n",
        "\n",
        "# earlys stopping\n",
        "early_stopping = tf.keras.callbacks.EarlyStopping(monitor='val_loss', patience=5)\n",
        "\n",
        "history = model.fit(X_train_padded, y_train,\n",
        "                    validation_data=(X_test_padded, y_test),\n",
        "                    epochs=EPOCHS,\n",
        "                    batch_size=BATCH_SIZE,\n",
        "                    callbacks=[early_stopping])"
      ]
    },
    {
      "cell_type": "code",
      "execution_count": 29,
      "metadata": {
        "colab": {
          "base_uri": "https://localhost:8080/"
        },
        "id": "MD2JRemxpGj4",
        "outputId": "9ceb50c4-31fa-444c-e1aa-f2ccd24331bb"
      },
      "outputs": [
        {
          "name": "stdout",
          "output_type": "stream",
          "text": [
            "782/782 [==============================] - 40s 51ms/step - loss: 0.7996 - accuracy: 0.7899\n",
            "Test Loss: 0.7995781898498535\n",
            "Test Accuracy: 0.7899199724197388\n"
          ]
        }
      ],
      "source": [
        "# evaluate on test\n",
        "test_loss, test_acc = model.evaluate(X_test_padded, y_test)\n",
        "\n",
        "print(f'Test Loss: {test_loss}')\n",
        "print(f'Test Accuracy: {test_acc}')"
      ]
    },
    {
      "cell_type": "code",
      "execution_count": 30,
      "metadata": {
        "colab": {
          "base_uri": "https://localhost:8080/",
          "height": 393
        },
        "id": "Zg6D-Y_jpGj4",
        "outputId": "1999eeff-29b1-4ecb-eecb-830a5163d252"
      },
      "outputs": [
        {
          "data": {
            "image/png": "[encoded data removed]",
            "text/plain": [
              "<Figure size 1200x400 with 2 Axes>"
            ]
          },
          "metadata": {},
          "output_type": "display_data"
        }
      ],
      "source": [
        "## Visualize the resutls\n",
        "fia, ax = plt.subplots(1, 2, figsize=(12, 4))\n",
        "n_epochs = len(history.history['loss'])  # real number of epochs in history, as we made early stopp\n",
        "plt.sca(ax[0])\n",
        "plt.plot(range(1, n_epochs+1), history.history['accuracy'], 'bo', label='Train Accuracy')\n",
        "plt.plot(range(1, n_epochs+1), history.history['val_accuracy'], 'r-', label='Valid Accuracy')\n",
        "plt.xlabel('Epochs', fontsize=14)\n",
        "plt.ylabel('Accuracy',  fontsize=14)\n",
        "plt.legend()\n",
        "\n",
        "plt.sca(ax[1])\n",
        "plt.plot(range(1, n_epochs+1), history.history['loss'], 'bo', label='Train loss')\n",
        "plt.plot(range(1, n_epochs+1), history.history['val_loss'], 'r-', label='Valid loss')\n",
        "plt.xlabel('Epochs', fontsize=14)\n",
        "plt.ylabel('Loss',  fontsize=14)\n",
        "plt.legend()\n",
        "plt.show()"
      ]
    },
    {
      "cell_type": "markdown",
      "metadata": {},
      "source": [
        "* `Inference`"
      ]
    },
    {
      "cell_type": "code",
      "execution_count": 31,
      "metadata": {
        "colab": {
          "base_uri": "https://localhost:8080/"
        },
        "id": "Hy_h2v7WtIt-",
        "outputId": "628ab08e-4559-4ec6-e21e-3c76a634d3e7"
      },
      "outputs": [
        {
          "name": "stderr",
          "output_type": "stream",
          "text": [
            "/usr/local/lib/python3.10/dist-packages/keras/src/engine/training.py:3000: UserWarning: You are saving your model as an HDF5 file via `model.save()`. This file format is considered legacy. We recommend using instead the native Keras format, e.g. `model.save('my_model.keras')`.\n",
            "  saving_api.save_model(\n"
          ]
        }
      ],
      "source": [
        "model.save('model.h5')\n",
        "joblib.dump(word2idx, 'artifacts/word2idx.joblib')\n",
        "joblib.dump(idx2word, 'artifacts/idx2word.joblib')"
      ]
    },
    {
      "cell_type": "code",
      "execution_count": 59,
      "metadata": {
        "id": "Ppzfx1qptMvH"
      },
      "outputs": [
        {
          "name": "stdout",
          "output_type": "stream",
          "text": [
            "WARNING:tensorflow:5 out of the last 5 calls to <function Model.make_predict_function.<locals>.predict_function at 0x0000014C9BE3FB50> triggered tf.function retracing. Tracing is expensive and the excessive number of tracings could be due to (1) creating @tf.function repeatedly in a loop, (2) passing tensors with different shapes, (3) passing Python objects instead of tensors. For (1), please define your @tf.function outside of the loop. For (2), @tf.function has reduce_retracing=True option that can avoid unnecessary retracing. For (3), please refer to https://www.tensorflow.org/guide/function#controlling_retracing and https://www.tensorflow.org/api_docs/python/tf/function for  more details.\n",
            "1/1 [==============================] - 1s 1s/step\n"
          ]
        },
        {
          "data": {
            "text/plain": [
              "'Negative'"
            ]
          },
          "execution_count": 59,
          "metadata": {},
          "output_type": "execute_result"
        }
      ],
      "source": [
        "text = \"? this film was just brilliant casting location scenery story direction everyone's really suited the part they played and you could just imagine being there robert ? is an amazing actor and now the same being director ? father came from the same scottish island as myself so i loved the fact there was a real connection with this film the witty remarks throughout the film were great it was just brilliant so much that i bought the film as soon as it was released for ? and would recommend it to everyone to watch and the fly fishing was amazing really cried at the end it was so sad and you know what they say if you cry at a film it must have been good and this definitely was also ? to the two little boy's that played the ? of norman and paul they were just brilliant children are often left out of the ? list i think because the stars that play them all grown up are such a big profile for the whole film but these children are amazing and should be praised for what they have done don't you think the whole story was so lovely because it was true and was someone's life after all that was shared with us all\"\n",
        "\n",
        "text_encoded = [word2idx.get(word, 0) for word in text.split()]\n",
        "\n",
        "text_padded = tf.keras.preprocessing.sequence.pad_sequences([text_encoded], \n",
        "                                                            maxlen=100, \n",
        "                                                            padding='post', \n",
        "                                                            truncating='post', \n",
        "                                                            value=0)\n",
        "\n",
        "model_lstm = tf.keras.models.load_model('../artifacts/model.h5')\n",
        "['positive' if model_lstm.predict(text_padded)[0][0] >= 0.5 else 'Negative'][0]"
      ]
    },
    {
      "cell_type": "code",
      "execution_count": null,
      "metadata": {},
      "outputs": [],
      "source": []
    }
  ],
  "metadata": {
    "accelerator": "GPU",
    "colab": {
      "gpuType": "T4",
      "provenance": []
    },
    "kernelspec": {
      "display_name": "Python 3",
      "name": "python3"
    },
    "language_info": {
      "codemirror_mode": {
        "name": "ipython",
        "version": 3
      },
      "file_extension": ".py",
      "mimetype": "text/x-python",
      "name": "python",
      "nbconvert_exporter": "python",
      "pygments_lexer": "ipython3",
      "version": "3.10.0"
    }
  },
  "nbformat": 4,
  "nbformat_minor": 0
}
